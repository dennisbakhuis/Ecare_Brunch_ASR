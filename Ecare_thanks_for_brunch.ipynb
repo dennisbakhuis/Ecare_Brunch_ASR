{
 "cells": [
  {
   "cell_type": "markdown",
   "id": "c075e8b5",
   "metadata": {},
   "source": [
    "# Ecare - thanks for the brunch - ASR edtion"
   ]
  },
  {
   "cell_type": "code",
   "execution_count": null,
   "id": "b9c179d4",
   "metadata": {},
   "outputs": [],
   "source": [
    "import librosa\n",
    "import torch\n",
    "from transformers import Wav2Vec2ForCTC, Wav2Vec2Processor\n",
    "import IPython.display as ipd"
   ]
  },
  {
   "cell_type": "markdown",
   "id": "ec26bd24",
   "metadata": {},
   "source": [
    "### Settings"
   ]
  },
  {
   "cell_type": "code",
   "execution_count": null,
   "id": "f21d5b61",
   "metadata": {},
   "outputs": [],
   "source": [
    "model_id = 'jonatasgrosman/wav2vec2-large-xlsr-53-dutch'\n",
    "audio_file = '/home/dennis/Documents/genoten.mp3'"
   ]
  },
  {
   "cell_type": "markdown",
   "id": "1cad9e74",
   "metadata": {},
   "source": [
    "### Play audio"
   ]
  },
  {
   "cell_type": "code",
   "execution_count": null,
   "id": "aa031d3c",
   "metadata": {},
   "outputs": [],
   "source": [
    "ipd.Audio(audio_file, rate=16_000)"
   ]
  },
  {
   "cell_type": "markdown",
   "id": "a8b1fcb7",
   "metadata": {},
   "source": [
    "### Perform ASR"
   ]
  },
  {
   "cell_type": "code",
   "execution_count": null,
   "id": "3567dcb4",
   "metadata": {},
   "outputs": [],
   "source": [
    "processor = Wav2Vec2Processor.from_pretrained(model_id)\n",
    "model = Wav2Vec2ForCTC.from_pretrained(model_id)"
   ]
  },
  {
   "cell_type": "markdown",
   "id": "446dade4",
   "metadata": {},
   "source": [
    "### Perform ASR"
   ]
  },
  {
   "cell_type": "code",
   "execution_count": null,
   "id": "a4df8ef5",
   "metadata": {},
   "outputs": [],
   "source": [
    "speech_array, _ = librosa.load(audio_file, sr=16_000)\n",
    "\n",
    "input_ids =  processor(\n",
    "    speech_array, \n",
    "    sampling_rate=16_000, \n",
    "    return_tensors=\"pt\", \n",
    "    padding=True\n",
    ")\n",
    "\n",
    "with torch.no_grad():\n",
    "    logits = model(\n",
    "        input_ids.input_values, \n",
    "        attention_mask=input_ids.attention_mask\n",
    "    ).logits\n",
    "    \n",
    "predicted_ids = torch.argmax(logits, dim=-1)\n",
    "predicted_sentence = processor.batch_decode(predicted_ids)[0]"
   ]
  },
  {
   "cell_type": "markdown",
   "id": "d900d0ba",
   "metadata": {},
   "source": [
    "### Result"
   ]
  },
  {
   "cell_type": "code",
   "execution_count": null,
   "id": "97e6f6f5",
   "metadata": {},
   "outputs": [],
   "source": [
    "ipd.Markdown(f'## {predicted_sentence.lower()}')"
   ]
  },
  {
   "cell_type": "code",
   "execution_count": null,
   "id": "d0a69a36",
   "metadata": {},
   "outputs": [],
   "source": []
  },
  {
   "cell_type": "code",
   "execution_count": null,
   "id": "6306a0c9",
   "metadata": {},
   "outputs": [],
   "source": []
  }
 ],
 "metadata": {
  "kernelspec": {
   "display_name": "Python 3",
   "language": "python",
   "name": "python3"
  },
  "language_info": {
   "codemirror_mode": {
    "name": "ipython",
    "version": 3
   },
   "file_extension": ".py",
   "mimetype": "text/x-python",
   "name": "python",
   "nbconvert_exporter": "python",
   "pygments_lexer": "ipython3",
   "version": "3.9.2"
  }
 },
 "nbformat": 4,
 "nbformat_minor": 5
}
